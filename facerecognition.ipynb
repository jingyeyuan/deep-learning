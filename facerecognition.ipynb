{
 "cells": [
  {
   "cell_type": "code",
   "execution_count": 9,
   "metadata": {},
   "outputs": [],
   "source": [
    "import numpy as np\n",
    "from keras import layers\n",
    "from keras.layers import Input, Dense, Activation, ZeroPadding2D, BatchNormalization, Flatten, Conv2D\n",
    "from keras.layers import AveragePooling2D, MaxPooling2D, Dropout, GlobalMaxPooling2D, GlobalAveragePooling2D\n",
    "from keras.models import Model\n",
    "from keras.preprocessing import image\n",
    "from keras.utils import layer_utils\n",
    "from keras.utils.data_utils import get_file\n",
    "from keras.applications.imagenet_utils import preprocess_input\n",
    "# import pydot\n",
    "# from IPython.disply import SVG\n",
    "from keras.utils.vis_utils import model_to_dot\n",
    "from keras.utils import plot_model\n",
    "# from kt_utils import *\n",
    "\n",
    "import keras.backend as K\n",
    "K.set_image_data_format('channels_last')\n",
    "import matplotlib.pyplot as plt\n",
    "\n"
   ]
  },
  {
   "cell_type": "code",
   "execution_count": 11,
   "metadata": {
    "collapsed": true
   },
   "outputs": [],
   "source": [
    "import keras.backend as K\n",
    "import math\n",
    "import numpy as np\n",
    "import h5py\n",
    "import matplotlib.pyplot as plt\n",
    "\n",
    "def mean_pred(y_true,y_pred):\n",
    "    return K.mean(y_pred)\n",
    "\n",
    "def load_dataset():\n",
    "    train_dataset = h5py.File('train_happy.h5','r')\n",
    "    train_set_x_orig =  np.array(train_dataset[\"train_set_x\"][:])\n",
    "    train_set_y_orig = np.array(train_dataset[\"train_set_y\"][:])\n",
    "    \n",
    "    test_dataset = h5py.File('test_happy.h5','r')\n",
    "    test_set_x_orig = np.array(test_dataset[\"test_set_x\"][:])\n",
    "    test_set_y_orig = np.array(test_dataset[\"test_set_y\"][:])\n",
    "    \n",
    "    classes =  np.array(test_dataset[\"list_classes\"][:])\n",
    "    \n",
    "    train_set_y_orig = train_set_y_orig.reshape((1,train_set_x_orig.shape[0])) #convert the dataset to (1,shape of train_y)\n",
    "    test_set_y_orig = test_set_y_orig.reshape((1,test_set_y_orig.shape[0])) #convert the dataset to (1, shape of test_y)\n",
    "    \n",
    "    return train_set_x_orig, train_set_y_orig, test_set_x_orig, test_set_y_orig, classes\n",
    "    "
   ]
  },
  {
   "cell_type": "code",
   "execution_count": 24,
   "metadata": {},
   "outputs": [],
   "source": [
    "X_train_orig,Y_train_orig,X_test_orig,Y_test_orig,classes=load_dataset()\n",
    "\n",
    "#normalize\n",
    "X_train = X_train_orig/225\n",
    "X_test = X_test_orig/225\n",
    "\n",
    "#reshape\n",
    "Y_train = Y_train_orig.T\n",
    "Y_test = Y_test_orig.T"
   ]
  },
  {
   "cell_type": "code",
   "execution_count": 23,
   "metadata": {},
   "outputs": [
    {
     "name": "stdout",
     "output_type": "stream",
     "text": [
      "(600, 64, 64, 3)\n"
     ]
    }
   ],
   "source": [
    "print(X_train_orig.shape)"
   ]
  },
  {
   "cell_type": "code",
   "execution_count": 40,
   "metadata": {
    "collapsed": true
   },
   "outputs": [],
   "source": [
    "def HappyModel(input_shape):\n",
    "    x_input=Input(input_shape)\n",
    "    x=ZeroPadding2D((3,3))(x_input)\n",
    "    x=Conv2D(32,(7,7),strides=(1,1),name='conv0')(x)\n",
    "    x=BatchNormalization(axis=3,name='bn0')(x)\n",
    "    x=Activation('relu')(x)\n",
    "    \n",
    "    x=MaxPooling2D((2,2),name='max_pool')(x) #maxpooling之后的层的大小为（input size/size of maxpooling）\n",
    "    x=Flatten()(x)\n",
    "    x=Dense(1,activation='sigmoid',name='fc')(x) #fully connect, 1是output的unit个数 Dense(units, activation)\n",
    "    \n",
    "    model=Model(inputs=x_input,outputs=x,name='HappyModel') #Model(inputs=a,outputs=b)模型包含从a到b的计算的所有网络层\n",
    "    \n",
    "    return model\n",
    "                                        "
   ]
  },
  {
   "cell_type": "code",
   "execution_count": 41,
   "metadata": {},
   "outputs": [],
   "source": [
    "happymodel = HappyModel((64,64,3))"
   ]
  },
  {
   "cell_type": "code",
   "execution_count": 45,
   "metadata": {},
   "outputs": [],
   "source": [
    "happymodel.compile(optimizer='adam',loss='binary_crossentropy',metrics=[\"accuracy\"])\n",
    "#model类模型的方法compile(optimizer, loss, metrics);optimizer,loss,metrics都是字符串，metrics一般选用['accuracy']"
   ]
  },
  {
   "cell_type": "code",
   "execution_count": 46,
   "metadata": {},
   "outputs": [
    {
     "name": "stdout",
     "output_type": "stream",
     "text": [
      "Epoch 1/40\n",
      "600/600 [==============================] - 6s 10ms/step - loss: 1.2914 - acc: 0.6550\n",
      "Epoch 2/40\n",
      "600/600 [==============================] - 4s 6ms/step - loss: 0.3220 - acc: 0.8650\n",
      "Epoch 3/40\n",
      "600/600 [==============================] - 4s 7ms/step - loss: 0.1473 - acc: 0.9500\n",
      "Epoch 4/40\n",
      "600/600 [==============================] - 4s 7ms/step - loss: 0.1010 - acc: 0.9717\n",
      "Epoch 5/40\n",
      "600/600 [==============================] - 4s 7ms/step - loss: 0.1057 - acc: 0.9583\n",
      "Epoch 6/40\n",
      "600/600 [==============================] - 4s 6ms/step - loss: 0.1189 - acc: 0.9550\n",
      "Epoch 7/40\n",
      "600/600 [==============================] - 4s 6ms/step - loss: 0.1141 - acc: 0.9583\n",
      "Epoch 8/40\n",
      "600/600 [==============================] - 4s 6ms/step - loss: 0.0701 - acc: 0.9767\n",
      "Epoch 9/40\n",
      "600/600 [==============================] - 4s 6ms/step - loss: 0.0690 - acc: 0.9717A: 1s - loss: 0.\n",
      "Epoch 10/40\n",
      "600/600 [==============================] - 4s 6ms/step - loss: 0.0690 - acc: 0.9783\n",
      "Epoch 11/40\n",
      "600/600 [==============================] - 4s 6ms/step - loss: 0.0885 - acc: 0.9750\n",
      "Epoch 12/40\n",
      "600/600 [==============================] - 4s 6ms/step - loss: 0.0990 - acc: 0.9667\n",
      "Epoch 13/40\n",
      "600/600 [==============================] - 4s 6ms/step - loss: 0.0766 - acc: 0.9733\n",
      "Epoch 14/40\n",
      "600/600 [==============================] - 4s 7ms/step - loss: 0.0670 - acc: 0.9717\n",
      "Epoch 15/40\n",
      "600/600 [==============================] - 4s 6ms/step - loss: 0.0560 - acc: 0.9800\n",
      "Epoch 16/40\n",
      "600/600 [==============================] - 4s 7ms/step - loss: 0.0288 - acc: 0.9883- ETA:\n",
      "Epoch 17/40\n",
      "600/600 [==============================] - 4s 7ms/step - loss: 0.0380 - acc: 0.9883\n",
      "Epoch 18/40\n",
      "600/600 [==============================] - 4s 6ms/step - loss: 0.0456 - acc: 0.9883\n",
      "Epoch 19/40\n",
      "600/600 [==============================] - 4s 6ms/step - loss: 0.0364 - acc: 0.9867A: 1s - loss: 0.0366 - \n",
      "Epoch 20/40\n",
      "600/600 [==============================] - 4s 6ms/step - loss: 0.0356 - acc: 0.9867A: 1s - loss: 0\n",
      "Epoch 21/40\n",
      "600/600 [==============================] - 4s 6ms/step - loss: 0.0242 - acc: 0.9950\n",
      "Epoch 22/40\n",
      "600/600 [==============================] - 4s 6ms/step - loss: 0.0288 - acc: 0.9950\n",
      "Epoch 23/40\n",
      "600/600 [==============================] - 4s 7ms/step - loss: 0.0414 - acc: 0.9767\n",
      "Epoch 24/40\n",
      "600/600 [==============================] - 4s 7ms/step - loss: 0.0238 - acc: 0.9917\n",
      "Epoch 25/40\n",
      "600/600 [==============================] - 4s 7ms/step - loss: 0.0492 - acc: 0.9783\n",
      "Epoch 26/40\n",
      "600/600 [==============================] - 4s 6ms/step - loss: 0.0556 - acc: 0.9833\n",
      "Epoch 27/40\n",
      "600/600 [==============================] - 4s 6ms/step - loss: 0.0281 - acc: 0.9883\n",
      "Epoch 28/40\n",
      "600/600 [==============================] - 4s 7ms/step - loss: 0.0325 - acc: 0.9867\n",
      "Epoch 29/40\n",
      "600/600 [==============================] - 4s 6ms/step - loss: 0.0446 - acc: 0.9883A\n",
      "Epoch 30/40\n",
      "600/600 [==============================] - 4s 6ms/step - loss: 0.0363 - acc: 0.9850\n",
      "Epoch 31/40\n",
      "600/600 [==============================] - 4s 6ms/step - loss: 0.1147 - acc: 0.9617\n",
      "Epoch 32/40\n",
      "600/600 [==============================] - 4s 6ms/step - loss: 0.3255 - acc: 0.9033\n",
      "Epoch 33/40\n",
      "600/600 [==============================] - 4s 6ms/step - loss: 0.3084 - acc: 0.9200\n",
      "Epoch 34/40\n",
      "600/600 [==============================] - 4s 6ms/step - loss: 0.1622 - acc: 0.9633A: 0s - loss: 0.1684 - acc: 0.\n",
      "Epoch 35/40\n",
      "600/600 [==============================] - 4s 6ms/step - loss: 0.1231 - acc: 0.9667\n",
      "Epoch 36/40\n",
      "600/600 [==============================] - 4s 6ms/step - loss: 0.1858 - acc: 0.9617\n",
      "Epoch 37/40\n",
      "600/600 [==============================] - 4s 6ms/step - loss: 0.0513 - acc: 0.9783\n",
      "Epoch 38/40\n",
      "600/600 [==============================] - 4s 6ms/step - loss: 0.1086 - acc: 0.9683\n",
      "Epoch 39/40\n",
      "600/600 [==============================] - 4s 7ms/step - loss: 0.0535 - acc: 0.9867\n",
      "Epoch 40/40\n",
      "600/600 [==============================] - 4s 6ms/step - loss: 0.0300 - acc: 0.9933TA:\n"
     ]
    },
    {
     "data": {
      "text/plain": [
       "<keras.callbacks.History at 0x1833a77ef0>"
      ]
     },
     "execution_count": 46,
     "metadata": {},
     "output_type": "execute_result"
    }
   ],
   "source": [
    "happymodel.fit(x=X_train,y=Y_train,epochs=40,batch_size=16) #training"
   ]
  },
  {
   "cell_type": "code",
   "execution_count": 51,
   "metadata": {},
   "outputs": [
    {
     "name": "stdout",
     "output_type": "stream",
     "text": [
      "150/150 [==============================] - 1s 4ms/step\n",
      "\n",
      "loss = 0.08468540241320928\n",
      "accuracy =0.9666666642824808\n"
     ]
    }
   ],
   "source": [
    "preds = happymodel.evaluate(x=X_test, y=Y_test) #testing and predicting\n",
    "print()\n",
    "print(\"loss = \"+str(preds[0])) #preds的第一个为loss\n",
    "print(\"accuracy =\"+str(preds[1])) #preds的第二个位accuracy"
   ]
  },
  {
   "cell_type": "code",
   "execution_count": 54,
   "metadata": {},
   "outputs": [
    {
     "name": "stdout",
     "output_type": "stream",
     "text": [
      "[[0.]]\n"
     ]
    }
   ],
   "source": [
    "img_path = 'my_image.jpg'\n",
    "img = image.load_img(img_path,target_size=(64,64))\n",
    "\n",
    "x=image.img_to_array(img)\n",
    "x=np.expand_dims(x,axis=0)\n",
    "x=preprocess_input(x)\n",
    "print(happymodel.predict(x))"
   ]
  },
  {
   "cell_type": "code",
   "execution_count": 55,
   "metadata": {},
   "outputs": [
    {
     "name": "stdout",
     "output_type": "stream",
     "text": [
      "[[1.]]\n"
     ]
    }
   ],
   "source": [
    "img_path='test_picture.png'\n",
    "img=image.load_img(img_path,target_size=(64,64))\n",
    "x=image.img_to_array(img)\n",
    "x=np.expand_dims(x,axis=0)\n",
    "x=preprocess_input(x)\n",
    "print(happymodel.predict(x))"
   ]
  },
  {
   "cell_type": "code",
   "execution_count": null,
   "metadata": {
    "collapsed": true
   },
   "outputs": [],
   "source": []
  },
  {
   "cell_type": "code",
   "execution_count": null,
   "metadata": {
    "collapsed": true
   },
   "outputs": [],
   "source": []
  },
  {
   "cell_type": "code",
   "execution_count": null,
   "metadata": {
    "collapsed": true
   },
   "outputs": [],
   "source": []
  }
 ],
 "metadata": {
  "kernelspec": {
   "display_name": "Python 3",
   "language": "python",
   "name": "python3"
  },
  "language_info": {
   "codemirror_mode": {
    "name": "ipython",
    "version": 3
   },
   "file_extension": ".py",
   "mimetype": "text/x-python",
   "name": "python",
   "nbconvert_exporter": "python",
   "pygments_lexer": "ipython3",
   "version": "3.6.2"
  }
 },
 "nbformat": 4,
 "nbformat_minor": 2
}
