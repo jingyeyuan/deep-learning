{
 "cells": [
  {
   "cell_type": "code",
   "execution_count": 1,
   "metadata": {},
   "outputs": [
    {
     "name": "stderr",
     "output_type": "stream",
     "text": [
      "/Users/mac/anaconda3/lib/python3.6/site-packages/h5py/__init__.py:34: FutureWarning: Conversion of the second argument of issubdtype from `float` to `np.floating` is deprecated. In future, it will be treated as `np.float64 == np.dtype(float).type`.\n",
      "  from ._conv import register_converters as _register_converters\n",
      "Using TensorFlow backend.\n"
     ]
    }
   ],
   "source": [
    "import numpy as np\n",
    "from keras import layers\n",
    "from keras.layers import Input, Dense, Activation, ZeroPadding2D, BatchNormalization, Flatten, Conv2D\n",
    "from keras.layers import AveragePooling2D, MaxPooling2D, Dropout\n",
    "from keras.models import Model\n",
    "from keras.preprocessing import image\n",
    "from keras.utils import layer_utils\n",
    "from keras.utils.data_utils import get_file\n",
    "from keras.applications.imagenet_utils import preprocess_input\n",
    "from keras.utils.np_utils import to_categorical #convert numbers to one-hot-encoding\n",
    "from keras.utils.vis_utils import model_to_dot\n",
    "from keras.utils import plot_model\n",
    "\n",
    "\n",
    "import keras.backend as K\n",
    "K.set_image_data_format('channels_last')\n",
    "    \n",
    "import matplotlib.pyplot as plt\n"
   ]
  },
  {
   "cell_type": "code",
   "execution_count": 2,
   "metadata": {
    "collapsed": true
   },
   "outputs": [],
   "source": [
    "import pandas as pd\n",
    "train=pd.read_csv('digit-recognizer/train.csv')\n",
    "test=pd.read_csv('digit-recognizer/test.csv')"
   ]
  },
  {
   "cell_type": "code",
   "execution_count": 4,
   "metadata": {},
   "outputs": [
    {
     "data": {
      "image/png": "[encoded data removed]",
      "text/plain": [
       "<matplotlib.figure.Figure at 0x1281c8160>"
      ]
     },
     "metadata": {},
     "output_type": "display_data"
    }
   ],
   "source": [
    "import matplotlib.pyplot as plt\n",
    "img=test.iloc[0].as_matrix()\n",
    "img=img.reshape((28,28))\n",
    "plt.imshow(img,cmap='gray')\n",
    "plt.show()"
   ]
  },
  {
   "cell_type": "code",
   "execution_count": null,
   "metadata": {},
   "outputs": [],
   "source": []
  },
  {
   "cell_type": "code",
   "execution_count": 5,
   "metadata": {
    "collapsed": true
   },
   "outputs": [],
   "source": [
    "Y_train_orig=train['label']\n",
    "X_train_orig=train.drop(labels='label',axis=1)"
   ]
  },
  {
   "cell_type": "code",
   "execution_count": 6,
   "metadata": {
    "collapsed": true
   },
   "outputs": [],
   "source": [
    "Y_train_orig=Y_train_orig.values.reshape((Y_train_orig.shape[0]))"
   ]
  },
  {
   "cell_type": "code",
   "execution_count": 7,
   "metadata": {
    "collapsed": true
   },
   "outputs": [],
   "source": [
    "from sklearn.model_selection import train_test_split\n",
    "X_train_orig,X_val,Y_train_orig,Y_val = train_test_split(X_train_orig,Y_train_orig,test_size=0.1,random_state=2)"
   ]
  },
  {
   "cell_type": "code",
   "execution_count": 8,
   "metadata": {
    "collapsed": true
   },
   "outputs": [],
   "source": [
    "#Normalization\n",
    "X_train_orig=X_train_orig.values.reshape(-1,28,28,1)\n",
    "test=test.values.reshape(-1,28,28,1)\n",
    "X_train=X_train_orig/225\n",
    "X_test=test/255"
   ]
  },
  {
   "cell_type": "code",
   "execution_count": 9,
   "metadata": {
    "collapsed": true
   },
   "outputs": [],
   "source": [
    "#reshape\n",
    "Y_train=to_categorical(Y_train_orig,num_classes=10)\n",
    "\n",
    "# print(Y_train[:10])"
   ]
  },
  {
   "cell_type": "code",
   "execution_count": 10,
   "metadata": {
    "collapsed": true
   },
   "outputs": [],
   "source": [
    "Y_val=to_categorical(Y_val,num_classes=10)\n",
    "X_val=X_val.values.reshape(-1,28,28,1)\n",
    "X_val=X_val/225"
   ]
  },
  {
   "cell_type": "code",
   "execution_count": 11,
   "metadata": {},
   "outputs": [
    {
     "name": "stdout",
     "output_type": "stream",
     "text": [
      "(37800, 10)\n"
     ]
    }
   ],
   "source": [
    "print(Y_train.shape)"
   ]
  },
  {
   "cell_type": "code",
   "execution_count": 12,
   "metadata": {
    "collapsed": true
   },
   "outputs": [],
   "source": [
    "def digitRecognition(input_shape):\n",
    "    x_input=Input(input_shape)\n",
    "    x=ZeroPadding2D((3,3))(x_input)\n",
    "    x=Conv2D(32,(7,7),strides=(1,1),name='conv0')(x)\n",
    "    x=BatchNormalization(axis=3,name='bn0')(x)\n",
    "    x=Activation('relu')(x)\n",
    "    \n",
    "    x=MaxPooling2D((2,2),name='max_pool')(x)\n",
    "    x=Flatten()(x)\n",
    "    x=Dense(10,activation='softmax',name='fc')(x)\n",
    "    \n",
    "    model=Model(input=x_input,output=x,name='digitRecognition')\n",
    "    return model"
   ]
  },
  {
   "cell_type": "code",
   "execution_count": 13,
   "metadata": {},
   "outputs": [
    {
     "name": "stderr",
     "output_type": "stream",
     "text": [
      "/Users/mac/anaconda3/lib/python3.6/site-packages/ipykernel_launcher.py:12: UserWarning: Update your `Model` call to the Keras 2 API: `Model(name=\"digitRecognition\", inputs=Tensor(\"in..., outputs=Tensor(\"fc...)`\n",
      "  if sys.path[0] == '':\n"
     ]
    }
   ],
   "source": [
    "digitR=digitRecognition((28,28,1))"
   ]
  },
  {
   "cell_type": "code",
   "execution_count": 14,
   "metadata": {
    "collapsed": true
   },
   "outputs": [],
   "source": [
    "digitR.compile(optimizer='adam',loss='categorical_crossentropy',metrics=['accuracy'])"
   ]
  },
  {
   "cell_type": "code",
   "execution_count": null,
   "metadata": {},
   "outputs": [
    {
     "name": "stdout",
     "output_type": "stream",
     "text": [
      "Epoch 1/42\n",
      "37800/37800 [==============================] - 57s 1ms/step - loss: 0.2810 - acc: 0.9152\n",
      "Epoch 2/42\n",
      "37800/37800 [==============================] - 161s 4ms/step - loss: 0.0861 - acc: 0.9743\n",
      "Epoch 3/42\n",
      "37800/37800 [==============================] - 63s 2ms/step - loss: 0.0576 - acc: 0.9831\n",
      "Epoch 4/42\n",
      "37800/37800 [==============================] - 57s 2ms/step - loss: 0.0460 - acc: 0.9862\n",
      "Epoch 5/42\n",
      "37800/37800 [==============================] - 52s 1ms/step - loss: 0.0422 - acc: 0.9872\n",
      "Epoch 6/42\n",
      "37800/37800 [==============================] - 58s 2ms/step - loss: 0.0343 - acc: 0.9887\n",
      "Epoch 7/42\n",
      "37800/37800 [==============================] - 61s 2ms/step - loss: 0.0291 - acc: 0.9907\n",
      "Epoch 8/42\n",
      "37800/37800 [==============================] - 46s 1ms/step - loss: 0.0258 - acc: 0.9916\n",
      "Epoch 9/42\n",
      "37800/37800 [==============================] - 49s 1ms/step - loss: 0.0230 - acc: 0.9924\n",
      "Epoch 10/42\n",
      "37800/37800 [==============================] - 54s 1ms/step - loss: 0.0180 - acc: 0.9944\n",
      "Epoch 11/42\n",
      "37800/37800 [==============================] - 53s 1ms/step - loss: 0.0184 - acc: 0.9938\n",
      "Epoch 12/42\n",
      "37800/37800 [==============================] - 67s 2ms/step - loss: 0.0165 - acc: 0.9949\n",
      "Epoch 13/42\n",
      "37800/37800 [==============================] - 66s 2ms/step - loss: 0.0139 - acc: 0.9957\n",
      "Epoch 14/42\n",
      "37800/37800 [==============================] - 52s 1ms/step - loss: 0.0111 - acc: 0.9966\n",
      "Epoch 15/42\n",
      "37800/37800 [==============================] - 41s 1ms/step - loss: 0.0112 - acc: 0.9966\n",
      "Epoch 16/42\n",
      "37800/37800 [==============================] - 42s 1ms/step - loss: 0.0135 - acc: 0.9957\n",
      "Epoch 17/42\n",
      "37800/37800 [==============================] - 41s 1ms/step - loss: 0.0102 - acc: 0.9968\n",
      "Epoch 18/42\n",
      "37800/37800 [==============================] - 44s 1ms/step - loss: 0.0088 - acc: 0.9973\n",
      "Epoch 19/42\n",
      "37800/37800 [==============================] - 42s 1ms/step - loss: 0.0072 - acc: 0.9980\n",
      "Epoch 20/42\n",
      "37800/37800 [==============================] - 40s 1ms/step - loss: 0.0046 - acc: 0.9990\n",
      "Epoch 21/42\n",
      "37800/37800 [==============================] - 40s 1ms/step - loss: 0.0091 - acc: 0.9972\n",
      "Epoch 22/42\n",
      "37800/37800 [==============================] - 43s 1ms/step - loss: 0.0191 - acc: 0.9935\n",
      "Epoch 23/42\n",
      "37800/37800 [==============================] - 42s 1ms/step - loss: 0.0071 - acc: 0.9979\n",
      "Epoch 24/42\n",
      "37800/37800 [==============================] - 43s 1ms/step - loss: 0.0048 - acc: 0.9988\n",
      "Epoch 25/42\n",
      "37800/37800 [==============================] - 42s 1ms/step - loss: 0.0042 - acc: 0.9990\n",
      "Epoch 26/42\n",
      "37800/37800 [==============================] - 42s 1ms/step - loss: 0.0023 - acc: 0.9996\n",
      "Epoch 27/42\n",
      "37800/37800 [==============================] - 42s 1ms/step - loss: 0.0014 - acc: 0.9999\n",
      "Epoch 28/42\n",
      "37800/37800 [==============================] - 42s 1ms/step - loss: 9.9477e-04 - acc: 1.0000\n",
      "Epoch 29/42\n",
      "37800/37800 [==============================] - 41s 1ms/step - loss: 9.5579e-04 - acc: 1.0000\n",
      "Epoch 30/42\n",
      "37800/37800 [==============================] - 42s 1ms/step - loss: 0.0010 - acc: 0.9999\n",
      "Epoch 31/42\n",
      "37800/37800 [==============================] - 41s 1ms/step - loss: 9.1919e-04 - acc: 1.0000\n",
      "Epoch 32/42\n",
      "37800/37800 [==============================] - 40s 1ms/step - loss: 7.5748e-04 - acc: 1.0000\n",
      "Epoch 33/42\n",
      "26800/37800 [====================>.........] - ETA: 12s - loss: 0.0027 - acc: 0.9993"
     ]
    }
   ],
   "source": [
    "digitR.fit(x=X_train,y=Y_train,epochs=42,batch_size=200)"
   ]
  },
  {
   "cell_type": "code",
   "execution_count": null,
   "metadata": {},
   "outputs": [],
   "source": [
    "print(Y_train.shape)"
   ]
  },
  {
   "cell_type": "code",
   "execution_count": null,
   "metadata": {},
   "outputs": [],
   "source": [
    "preds=digitR.evaluate(x=X_val,y=Y_val)\n",
    "print()\n",
    "print(\"loss=\"+str(preds[0]))\n",
    "print(\"accuracy=\"+str(preds[1]))"
   ]
  },
  {
   "cell_type": "code",
   "execution_count": null,
   "metadata": {
    "collapsed": true
   },
   "outputs": [],
   "source": [
    "Y_test=digitR.predict(X_test)\n",
    "Y_test=np.argmax(Y_test,axis=1)\n"
   ]
  },
  {
   "cell_type": "code",
   "execution_count": null,
   "metadata": {
    "collapsed": true
   },
   "outputs": [],
   "source": []
  },
  {
   "cell_type": "code",
   "execution_count": null,
   "metadata": {
    "collapsed": true
   },
   "outputs": [],
   "source": []
  },
  {
   "cell_type": "code",
   "execution_count": 242,
   "metadata": {
    "collapsed": true
   },
   "outputs": [],
   "source": [
    "Y_ans=pd.Series(Y_test,name='Label')\n"
   ]
  },
  {
   "cell_type": "code",
   "execution_count": 259,
   "metadata": {},
   "outputs": [
    {
     "name": "stdout",
     "output_type": "stream",
     "text": [
      "   ImageId  Label\n",
      "0        1      2\n",
      "1        2      0\n",
      "2        3      9\n",
      "3        4      0\n",
      "4        5      3\n",
      "5        6      7\n",
      "6        7      0\n",
      "7        8      3\n",
      "8        9      0\n",
      "9       10      3\n"
     ]
    }
   ],
   "source": [
    "ans=pd.concat([pd.Series(range(1,Y_ans.shape[0]+1),name='ImageId'),Y_ans],axis=1)\n",
    "print(ans[:10])"
   ]
  },
  {
   "cell_type": "code",
   "execution_count": 264,
   "metadata": {
    "collapsed": true
   },
   "outputs": [],
   "source": [
    "\n",
    "submission=ans.to_csv('submission.csv')"
   ]
  },
  {
   "cell_type": "code",
   "execution_count": null,
   "metadata": {
    "collapsed": true
   },
   "outputs": [],
   "source": []
  }
 ],
 "metadata": {
  "kernelspec": {
   "display_name": "Python 3",
   "language": "python",
   "name": "python3"
  },
  "language_info": {
   "codemirror_mode": {
    "name": "ipython",
    "version": 3
   },
   "file_extension": ".py",
   "mimetype": "text/x-python",
   "name": "python",
   "nbconvert_exporter": "python",
   "pygments_lexer": "ipython3",
   "version": "3.6.2"
  }
 },
 "nbformat": 4,
 "nbformat_minor": 2
}
